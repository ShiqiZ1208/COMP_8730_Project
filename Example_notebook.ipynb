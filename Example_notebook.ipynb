{
  "nbformat": 4,
  "nbformat_minor": 0,
  "metadata": {
    "colab": {
      "provenance": [],
      "gpuType": "T4",
      "authorship_tag": "ABX9TyMOGE/oAl8PMxLsP9ff2D65",
      "include_colab_link": true
    },
    "kernelspec": {
      "name": "python3",
      "display_name": "Python 3"
    },
    "language_info": {
      "name": "python"
    },
    "accelerator": "GPU"
  },
  "cells": [
    {
      "cell_type": "markdown",
      "metadata": {
        "id": "view-in-github",
        "colab_type": "text"
      },
      "source": [
        "<a href=\"https://colab.research.google.com/github/ShiqiZ1208/COMP_8730_Project/blob/main/Example_notebook.ipynb\" target=\"_parent\"><img src=\"https://colab.research.google.com/assets/colab-badge.svg\" alt=\"Open In Colab\"/></a>"
      ]
    },
    {
      "cell_type": "code",
      "execution_count": 1,
      "metadata": {
        "id": "KJMpcIIZX3od",
        "colab": {
          "base_uri": "https://localhost:8080/"
        },
        "outputId": "29dc1abc-20e4-403b-e2a4-c580e537c70c"
      },
      "outputs": [
        {
          "output_type": "stream",
          "name": "stdout",
          "text": [
            "Cloning into 'COMP_8730_Project'...\n",
            "remote: Enumerating objects: 162, done.\u001b[K\n",
            "remote: Counting objects: 100% (162/162), done.\u001b[K\n",
            "remote: Compressing objects: 100% (149/149), done.\u001b[K\n",
            "remote: Total 162 (delta 85), reused 14 (delta 7), pack-reused 0 (from 0)\u001b[K\n",
            "Receiving objects: 100% (162/162), 2.70 MiB | 3.98 MiB/s, done.\n",
            "Resolving deltas: 100% (85/85), done.\n"
          ]
        }
      ],
      "source": [
        "!git clone https://github.com/ShiqiZ1208/COMP_8730_Project.git"
      ]
    },
    {
      "cell_type": "code",
      "source": [
        "%cd \"./COMP_8730_Project\""
      ],
      "metadata": {
        "id": "tfGfFK_rYUdo",
        "colab": {
          "base_uri": "https://localhost:8080/"
        },
        "outputId": "636d0676-ea63-43fc-df92-8c4d0a808003"
      },
      "execution_count": 2,
      "outputs": [
        {
          "output_type": "stream",
          "name": "stdout",
          "text": [
            "/content/COMP_8730_Project\n"
          ]
        }
      ]
    },
    {
      "cell_type": "code",
      "source": [
        "!pip install -r requirement.txt"
      ],
      "metadata": {
        "collapsed": true,
        "id": "Ku2hUoCrZNSv"
      },
      "execution_count": null,
      "outputs": []
    },
    {
      "cell_type": "markdown",
      "source": [
        "Training with epoch 1 batch 5"
      ],
      "metadata": {
        "id": "3bOHpLLFb7E5"
      }
    },
    {
      "cell_type": "code",
      "source": [
        "!python main.py -o train -b 5 -e 1 -save true -l false -mode GAN"
      ],
      "metadata": {
        "id": "ONstBBfxZ67I"
      },
      "execution_count": null,
      "outputs": []
    },
    {
      "cell_type": "markdown",
      "source": [
        "continue_traning with epoch 1 batch 5"
      ],
      "metadata": {
        "id": "cFj1frQLcBo4"
      }
    },
    {
      "cell_type": "code",
      "source": [
        "!python main.py -o train -b 5 -e 1 -save true -l true -g './SaveModel/lora_bart_1_5' -d './SaveModel/lora_bert_1_5'"
      ],
      "metadata": {
        "id": "snEKVMnyZ7gG"
      },
      "execution_count": null,
      "outputs": []
    },
    {
      "cell_type": "markdown",
      "source": [
        "predict using model"
      ],
      "metadata": {
        "id": "7nOpd0XmcFiI"
      }
    },
    {
      "cell_type": "code",
      "source": [
        "!python main.py -o predict -g './SaveModel/lora_bart_1_5' -i './lecturenotes/EconomicLecture'"
      ],
      "metadata": {
        "id": "S7orB0uVZ_L3"
      },
      "execution_count": null,
      "outputs": []
    },
    {
      "cell_type": "code",
      "source": [
        "!python main.py -o evaluate -g 'lora_bartGAN_5_5.pth' -base false"
      ],
      "metadata": {
        "colab": {
          "base_uri": "https://localhost:8080/"
        },
        "id": "p6mXtuqTqdyK",
        "outputId": "748872be-c37e-4445-a4c6-8c342a884d2f"
      },
      "execution_count": 6,
      "outputs": [
        {
          "output_type": "stream",
          "name": "stdout",
          "text": [
            "2025-03-31 00:22:12.978891: E external/local_xla/xla/stream_executor/cuda/cuda_fft.cc:477] Unable to register cuFFT factory: Attempting to register factory for plugin cuFFT when one has already been registered\n",
            "WARNING: All log messages before absl::InitializeLog() is called are written to STDERR\n",
            "E0000 00:00:1743380533.246936    2021 cuda_dnn.cc:8310] Unable to register cuDNN factory: Attempting to register factory for plugin cuDNN when one has already been registered\n",
            "E0000 00:00:1743380533.319542    2021 cuda_blas.cc:1418] Unable to register cuBLAS factory: Attempting to register factory for plugin cuBLAS when one has already been registered\n",
            "2025-03-31 00:22:13.891468: I tensorflow/core/platform/cpu_feature_guard.cc:210] This TensorFlow binary is optimized to use available CPU instructions in performance-critical operations.\n",
            "To enable the following instructions: AVX2 AVX512F FMA, in other operations, rebuild TensorFlow with the appropriate compiler flags.\n",
            "vocab.json: 100% 899k/899k [00:00<00:00, 6.20MB/s]\n",
            "merges.txt: 100% 456k/456k [00:00<00:00, 6.69MB/s]\n",
            "tokenizer.json: 100% 1.36M/1.36M [00:00<00:00, 17.2MB/s]\n",
            "config.json: 100% 1.58k/1.58k [00:00<00:00, 8.82MB/s]\n",
            "tokenizer_config.json: 100% 48.0/48.0 [00:00<00:00, 378kB/s]\n",
            "vocab.txt: 100% 232k/232k [00:00<00:00, 3.33MB/s]\n",
            "tokenizer.json: 100% 466k/466k [00:00<00:00, 3.54MB/s]\n",
            "config.json: 100% 570/570 [00:00<00:00, 4.84MB/s]\n",
            "Downloading builder script: 100% 6.27k/6.27k [00:00<00:00, 28.2MB/s]\n",
            "\n",
            "rouge1:0.6066| rouge2:0.3195| rougeL:0.4565| rougeLsum:0.4565\n"
          ]
        }
      ]
    },
    {
      "cell_type": "code",
      "source": [
        "!python main.py -o evaluate -g 'lora_bart_5_5' -base false"
      ],
      "metadata": {
        "colab": {
          "base_uri": "https://localhost:8080/"
        },
        "id": "r906U2LCtpCw",
        "outputId": "dab52d93-2073-4b83-8e16-5309bfac2b6a"
      },
      "execution_count": null,
      "outputs": [
        {
          "output_type": "stream",
          "name": "stdout",
          "text": [
            "2025-03-29 21:02:50.311106: E external/local_xla/xla/stream_executor/cuda/cuda_fft.cc:477] Unable to register cuFFT factory: Attempting to register factory for plugin cuFFT when one has already been registered\n",
            "WARNING: All log messages before absl::InitializeLog() is called are written to STDERR\n",
            "E0000 00:00:1743282170.331143    3947 cuda_dnn.cc:8310] Unable to register cuDNN factory: Attempting to register factory for plugin cuDNN when one has already been registered\n",
            "E0000 00:00:1743282170.337214    3947 cuda_blas.cc:1418] Unable to register cuBLAS factory: Attempting to register factory for plugin cuBLAS when one has already been registered\n",
            "2025-03-29 21:02:50.358327: I tensorflow/core/platform/cpu_feature_guard.cc:210] This TensorFlow binary is optimized to use available CPU instructions in performance-critical operations.\n",
            "To enable the following instructions: AVX2 AVX512F FMA, in other operations, rebuild TensorFlow with the appropriate compiler flags.\n",
            "\n",
            "rouge1:0.5723| rouge2:0.3016| rougeL:0.4031| rougeLsum:0.4031\n"
          ]
        }
      ]
    },
    {
      "cell_type": "code",
      "source": [
        "!python main.py -o evaluate -g 'lora_bart_5_5' -base true\n",
        "#for this one the ckpt is not loaded only test for the base model"
      ],
      "metadata": {
        "colab": {
          "base_uri": "https://localhost:8080/"
        },
        "id": "rtzP2yFsubxV",
        "outputId": "ba9e0a5c-6651-4fb3-f457-4e3145462ba9"
      },
      "execution_count": null,
      "outputs": [
        {
          "output_type": "stream",
          "name": "stdout",
          "text": [
            "2025-03-29 21:06:12.382138: E external/local_xla/xla/stream_executor/cuda/cuda_fft.cc:477] Unable to register cuFFT factory: Attempting to register factory for plugin cuFFT when one has already been registered\n",
            "WARNING: All log messages before absl::InitializeLog() is called are written to STDERR\n",
            "E0000 00:00:1743282372.415882    4841 cuda_dnn.cc:8310] Unable to register cuDNN factory: Attempting to register factory for plugin cuDNN when one has already been registered\n",
            "E0000 00:00:1743282372.426372    4841 cuda_blas.cc:1418] Unable to register cuBLAS factory: Attempting to register factory for plugin cuBLAS when one has already been registered\n",
            "2025-03-29 21:06:12.460724: I tensorflow/core/platform/cpu_feature_guard.cc:210] This TensorFlow binary is optimized to use available CPU instructions in performance-critical operations.\n",
            "To enable the following instructions: AVX2 AVX512F FMA, in other operations, rebuild TensorFlow with the appropriate compiler flags.\n",
            "model.safetensors: 100% 1.63G/1.63G [00:15<00:00, 105MB/s]\n",
            "generation_config.json: 100% 363/363 [00:00<00:00, 2.70MB/s]\n",
            "\n",
            "rouge1:0.3721| rouge2:0.1439| rougeL:0.2534| rougeLsum:0.2534\n"
          ]
        }
      ]
    },
    {
      "cell_type": "code",
      "source": [
        "from Lecture_aug import data_aug\n",
        "data_aug(900)"
      ],
      "metadata": {
        "id": "WbrXANf4-Rv4"
      },
      "execution_count": null,
      "outputs": []
    }
  ]
}