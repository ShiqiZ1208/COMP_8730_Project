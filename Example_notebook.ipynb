{
  "nbformat": 4,
  "nbformat_minor": 0,
  "metadata": {
    "colab": {
      "provenance": [],
      "gpuType": "T4",
      "authorship_tag": "ABX9TyPTuf+sprVOIaXAyu+E9bDT",
      "include_colab_link": true
    },
    "kernelspec": {
      "name": "python3",
      "display_name": "Python 3"
    },
    "language_info": {
      "name": "python"
    },
    "accelerator": "GPU"
  },
  "cells": [
    {
      "cell_type": "markdown",
      "metadata": {
        "id": "view-in-github",
        "colab_type": "text"
      },
      "source": [
        "<a href=\"https://colab.research.google.com/github/ShiqiZ1208/COMP_8730_Project/blob/main/Example_notebook.ipynb\" target=\"_parent\"><img src=\"https://colab.research.google.com/assets/colab-badge.svg\" alt=\"Open In Colab\"/></a>"
      ]
    },
    {
      "cell_type": "code",
      "execution_count": null,
      "metadata": {
        "id": "KJMpcIIZX3od"
      },
      "outputs": [],
      "source": [
        "!git clone https://github.com/ShiqiZ1208/COMP_8730_Project.git"
      ]
    },
    {
      "cell_type": "code",
      "source": [
        "%cd \"./COMP_8730_Project\""
      ],
      "metadata": {
        "id": "tfGfFK_rYUdo"
      },
      "execution_count": null,
      "outputs": []
    },
    {
      "cell_type": "code",
      "source": [
        "!pip install -r requirement.txt"
      ],
      "metadata": {
        "collapsed": true,
        "id": "Ku2hUoCrZNSv"
      },
      "execution_count": null,
      "outputs": []
    },
    {
      "cell_type": "markdown",
      "source": [
        "Training with epoch 1 batch 5"
      ],
      "metadata": {
        "id": "3bOHpLLFb7E5"
      }
    },
    {
      "cell_type": "code",
      "source": [
        "!python main.py -o train -b 5 -e 1 -save true -l false"
      ],
      "metadata": {
        "id": "ONstBBfxZ67I"
      },
      "execution_count": null,
      "outputs": []
    },
    {
      "cell_type": "markdown",
      "source": [
        "continue_traning with epoch 1 batch 5"
      ],
      "metadata": {
        "id": "cFj1frQLcBo4"
      }
    },
    {
      "cell_type": "code",
      "source": [
        "!python main.py -o train -b 5 -e 1 -save true -l true -g './SaveModel/lora_bart_1_5' -d './SaveModel/lora_bert_1_5'"
      ],
      "metadata": {
        "id": "snEKVMnyZ7gG"
      },
      "execution_count": null,
      "outputs": []
    },
    {
      "cell_type": "markdown",
      "source": [
        "predict using model"
      ],
      "metadata": {
        "id": "7nOpd0XmcFiI"
      }
    },
    {
      "cell_type": "code",
      "source": [
        "!python main.py -o predict -g './SaveModel/lora_bart_1_5' -i './lecturenotes/EconomicLecture'"
      ],
      "metadata": {
        "id": "S7orB0uVZ_L3"
      },
      "execution_count": null,
      "outputs": []
    }
  ]
}